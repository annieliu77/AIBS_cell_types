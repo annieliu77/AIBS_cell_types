{
 "metadata": {
  "name": "",
  "signature": "sha256:73e62e18833a7ae4a278cb00a1d0d29abaa3b8fe1e325ee4c03308b466edbdc0"
 },
 "nbformat": 3,
 "nbformat_minor": 0,
 "worksheets": [
  {
   "cells": [
    {
     "cell_type": "markdown",
     "metadata": {},
     "source": [
      "# IPython notebook example of AIBS Cell Types ephys interaction\n",
      "\n",
      "The Allen Institute for Brain Science released an awesome dataset on intracellular patch clamp electrophysiology recordings and morphology from visual cortex cell types. Here I'm showing how to access and download an example dataset in neurodata-without-borders format and then plot and compute a few things from traces."
     ]
    },
    {
     "cell_type": "code",
     "collapsed": false,
     "input": [
      "# import some stuff\n",
      "%matplotlib inline\n",
      "\n",
      "import matplotlib.pyplot as plt\n",
      "import numpy as np"
     ],
     "language": "python",
     "metadata": {},
     "outputs": [],
     "prompt_number": 387
    },
    {
     "cell_type": "code",
     "collapsed": false,
     "input": [
      "# pick a dataset to analyze\n",
      "\n",
      "# this one looks good: \n",
      "# Mouse Line\tRorb-IRES2-Cre\n",
      "# ID\t320654829\n",
      "# Structure\tLateral visual area, layer 5\n",
      "# Hemisphere\tleft\n",
      "\n",
      "#http://celltypes.brain-map.org/mouse/experiment/electrophysiology/320654829\n",
      "dataset_id = 320654829\n",
      "\n"
     ],
     "language": "python",
     "metadata": {},
     "outputs": [],
     "prompt_number": 388
    },
    {
     "cell_type": "code",
     "collapsed": false,
     "input": [
      "# query the allen metadata to get the id of the raw nwb data file\n",
      "# dataset corresponding to the raw ephys file\n",
      "\n",
      "import urllib2\n",
      "import simplejson\n",
      "url_query_str = \"http://api.brain-map.org/api/v2/data/query.json?criteria=model::Specimen,rma::criteria,[id$eq%d],rma::include,ephys_result(well_known_files(well_known_file_type[name$eqNWB]))\" \n",
      "url_query = url_query_str % dataset_id\n",
      "\n",
      "returned_url_string = urllib2.urlopen(url_query).read()\n",
      "print returned_url_string\n",
      "jsoned = simplejson.loads(returned_url_string)\n",
      "file_download_id = jsoned['msg'][0]['ephys_result']['well_known_files'][0]['id']\n",
      "\n",
      "nwb_file_download_query_str = \"http://api.brain-map.org/api/v2/well_known_file_download/%s\"\n",
      "nwb_file_download_query = nwb_file_download_query_str % file_download_id\n",
      "\n",
      "\n",
      "\n",
      "\n",
      "\n"
     ],
     "language": "python",
     "metadata": {},
     "outputs": [
      {
       "output_type": "stream",
       "stream": "stdout",
       "text": [
        "{\"success\": true, \"id\": 0, \"start_row\": 0, \"num_rows\": 1, \"total_rows\": 1, \"msg\": [{\"donor_id\":319194402,\"ephys_result_id\":320654827,\"external_specimen_name\":null,\"failed_facet\":734881840,\"hemisphere\":\"left\",\"id\":320654829,\"is_cell_specimen\":true,\"is_ish\":false,\"name\":\"Rorb-IRES2-Cre-D;Ai14(IVSCC)-171056.05.01.01\",\"parent_id\":320606392,\"parent_x_coord\":0,\"parent_y_coord\":0,\"parent_z_coord\":1,\"rna_integrity_number\":null,\"specimen_id_path\":\"/319194404/320602596/320606392/320654829/\",\"sphinx_id\":47612,\"structure_id\":613,\"tissue_ph\":null,\"weight\":9000,\"ephys_result\":{\"id\":320654827,\"well_known_files\":[{\"attachable_id\":320654827,\"attachable_type\":\"EphysResult\",\"download_link\":\"/api/v2/well_known_file_download/475692071\",\"id\":475692071,\"path\":\"/external/mousecelltypes/prod143/Ephys_Specimen_Roi_plan_320654827/320654827.nwb\",\"well_known_file_type_id\":475137571,\"well_known_file_type\":{\"id\":475137571,\"name\":\"NWB\"}}]}}]}\n"
       ]
      }
     ],
     "prompt_number": 390
    },
    {
     "cell_type": "code",
     "collapsed": false,
     "input": [
      "# download the nwb file and save it to a specific file\n",
      "\n",
      "import requests\n",
      "print nwb_file_download_query\n",
      "r = requests.get(nwb_file_download_query, stream=True)\n",
      "nwb_filename = '%d_raw_data.nwb' % dataset_id\n",
      "\n",
      "with open(nwb_filename, 'wb') as f:\n",
      "    for chunk in r.iter_content(chunk_size=2048): \n",
      "        if chunk: # filter out keep-alive new chunks\n",
      "            f.write(chunk)\n",
      "            f.flush()"
     ],
     "language": "python",
     "metadata": {},
     "outputs": [
      {
       "output_type": "stream",
       "stream": "stdout",
       "text": [
        "http://api.brain-map.org/api/v2/well_known_file_download/475692071\n"
       ]
      }
     ],
     "prompt_number": 298
    },
    {
     "cell_type": "code",
     "collapsed": false,
     "input": [
      "# load in the nwb file using the Allen SDK\n",
      "# the SDK is great because it abstracts the .nwb file complexity from the user\n",
      "\n",
      "# need to pip install the AIBS SDK: http://alleninstitute.github.io/AllenSDK/install.html\n",
      "# or pull the allensdk from github: https://github.com/AllenInstitute/AllenSDK\n",
      "\n",
      "from allensdk.core.nwb_data_set import NwbDataSet\n",
      "data_set = NwbDataSet(nwb_filename)"
     ],
     "language": "python",
     "metadata": {},
     "outputs": [],
     "prompt_number": 391
    },
    {
     "cell_type": "code",
     "collapsed": false,
     "input": [
      "# for a specific sweep, use the SDK functions to get the stimulus, response, samp_rate, etc\n",
      "sweep_number = 60\n",
      "sweep_data = data_set.get_sweep(sweep_number)\n",
      "\n",
      "# spike times are in seconds relative to the start of the sweep\n",
      "# spike times get function actually doesn't work in the SDK as of May 14, 2015\n",
      "spike_times = data_set.get_spike_times(sweep_number)\n",
      "\n",
      "# start/stop indices that exclude the experimental test pulse (if applicable)\n",
      "index_range = sweep_data['index_range']\n",
      "print index_range\n",
      "\n",
      "# stimulus is a numpy array in amps\n",
      "stimulus = sweep_data['stimulus'][index_range[0]:index_range[-1]]\n",
      "\n",
      "# response is a numpy array in volts\n",
      "response = sweep_data['response'][index_range[0]:index_range[-1]]*1000\n",
      "\n",
      "# sampling rate is in Hz\n",
      "sampling_rate = sweep_data['sampling_rate']\n",
      "\n",
      "# define some time points in seconds (i.e., convert to absolute time)\n",
      "time_pts = np.arange(0,len(stimulus)/sampling_rate,1./sampling_rate)\n"
     ],
     "language": "python",
     "metadata": {},
     "outputs": [
      {
       "output_type": "stream",
       "stream": "stdout",
       "text": [
        "(150000, 5004000)\n"
       ]
      }
     ],
     "prompt_number": 392
    },
    {
     "cell_type": "code",
     "collapsed": false,
     "input": [
      "# plot the stimulus and the voltage response for the random trial\n",
      "plt.subplot(2,1,1)\n",
      "plt.plot(time_pts,stimulus)\n",
      "plt.subplot(2,1,2)\n",
      "plt.plot(time_pts,response)\n"
     ],
     "language": "python",
     "metadata": {},
     "outputs": [
      {
       "metadata": {},
       "output_type": "pyout",
       "prompt_number": 393,
       "text": [
        "[<matplotlib.lines.Line2D at 0x1bbe4b390>]"
       ]
      },
      {
       "metadata": {},
       "output_type": "display_data",
       "png": "[encoded data removed]",
       "text": [
        "<matplotlib.figure.Figure at 0x1f3a70810>"
       ]
      }
     ],
     "prompt_number": 393
    },
    {
     "cell_type": "code",
     "collapsed": false,
     "input": [
      "# let's pick a trial corresponding to the rheobase stimulus for the long square stimulus\n",
      "\n",
      "# the rheobase trial for the Long Square Stimulus (figured out by looking at the .nwb file)\n",
      "rheobase_sweep_index = 51\n",
      "\n",
      "# get the data for this trial\n",
      "sweep_data = data_set.get_sweep(rheobase_sweep_index)\n",
      "stimulus = sweep_data['stimulus'][index_range[0]:index_range[-1]]\n",
      "response = sweep_data['response'][index_range[0]:index_range[-1]]*1000\n",
      "time_pts = np.arange(0,len(stimulus)/sampling_rate,1./sampling_rate)\n",
      "\n"
     ],
     "language": "python",
     "metadata": {},
     "outputs": [],
     "prompt_number": 394
    },
    {
     "cell_type": "code",
     "collapsed": false,
     "input": [
      "# plot the stimulus and the voltage response for the rheobase trial\n",
      "plt.subplot(2,1,1)\n",
      "plt.plot(time_pts,stimulus)\n",
      "plt.subplot(2,1,2)\n",
      "plt.plot(time_pts,response)\n",
      "\n"
     ],
     "language": "python",
     "metadata": {},
     "outputs": [
      {
       "metadata": {},
       "output_type": "pyout",
       "prompt_number": 395,
       "text": [
        "[<matplotlib.lines.Line2D at 0x1bbdd5210>]"
       ]
      },
      {
       "metadata": {},
       "output_type": "display_data",
       "png": "[encoded data removed]",
       "text": [
        "<matplotlib.figure.Figure at 0x1f39f5d50>"
       ]
      }
     ],
     "prompt_number": 395
    },
    {
     "cell_type": "code",
     "collapsed": false,
     "input": [
      "# for this trial, what is the voltage corresponding to the spike peak?\n",
      "rheo_ap_peak_v = np.max(response)\n",
      "rheo_ap_peak_index = np.argmax(response)\n",
      "rheo_ap_peak_t = time_pts[rheo_ap_peak_index]\n",
      "print rheo_ap_peak_v\n",
      "print rheo_ap_peak_t\n",
      "\n",
      "# let's now get the summarized data from the Allen API for the voltage for the spike peak\n",
      "summary_ephys_base_url = \"http://api.brain-map.org/api/v2/data/query.json?criteria=model::EphysFeature,rma::criteria,[specimen_id$eq%d]\"\n",
      "summary_ephys_url = summary_ephys_base_url % dataset_id\n",
      "\n",
      "returned_url_string = urllib2.urlopen(summary_ephys_url).read()\n",
      "jsoned = simplejson.loads(returned_url_string)\n",
      "\n",
      "rheo_ap_peak_v_api = jsoned[\"msg\"][0][\"peak_v_long_square\"]\n",
      "rheo_ap_peak_t_api = jsoned[\"msg\"][0][\"peak_t_long_square\"]\n",
      "\n",
      "print rheo_ap_peak_v_api\n",
      "print rheo_ap_peak_t_api\n"
     ],
     "language": "python",
     "metadata": {},
     "outputs": [
      {
       "output_type": "stream",
       "stream": "stdout",
       "text": [
        "29.5000006594\n",
        "0.319085\n",
        "29.5"
       ]
      },
      {
       "output_type": "stream",
       "stream": "stdout",
       "text": [
        "\n",
        "0.049085\n"
       ]
      }
     ],
     "prompt_number": 405
    },
    {
     "cell_type": "code",
     "collapsed": false,
     "input": [
      "use_inds = range(0,250000,1)"
     ],
     "language": "python",
     "metadata": {},
     "outputs": [],
     "prompt_number": 333
    },
    {
     "cell_type": "code",
     "collapsed": false,
     "input": [
      "plt.plot(time_pts[use_inds],response[use_inds])"
     ],
     "language": "python",
     "metadata": {},
     "outputs": [
      {
       "metadata": {},
       "output_type": "pyout",
       "prompt_number": 335,
       "text": [
        "[<matplotlib.lines.Line2D at 0x2520d8510>]"
       ]
      },
      {
       "metadata": {},
       "output_type": "display_data",
       "png": "[encoded data removed]",
       "text": [
        "<matplotlib.figure.Figure at 0x2504b8090>"
       ]
      }
     ],
     "prompt_number": 335
    },
    {
     "cell_type": "code",
     "collapsed": false,
     "input": [
      "plt.plot(time_pts[use_inds[0:-1]],np.diff(response[use_inds]))"
     ],
     "language": "python",
     "metadata": {},
     "outputs": [
      {
       "metadata": {},
       "output_type": "pyout",
       "prompt_number": 336,
       "text": [
        "[<matplotlib.lines.Line2D at 0x1f2067b10>]"
       ]
      },
      {
       "metadata": {},
       "output_type": "display_data",
       "png": "[encoded data removed]",
       "text": [
        "<matplotlib.figure.Figure at 0x2504ed650>"
       ]
      }
     ],
     "prompt_number": 336
    },
    {
     "cell_type": "code",
     "collapsed": false,
     "input": [
      "#print np.argmax(response[use_inds])\n",
      "#print np.max(response[use_inds])\n",
      "483349\n",
      "diff_trace = np.diff(response[use_inds])\n",
      "thresh =  diff_trace > .2\n",
      "\n",
      "threshold_edges = np.convolve([1, -1], thresh, mode='same')\n",
      "\n",
      "thresholded_edge_indices = np.where(thresh==1)[0]\n",
      "\n",
      "print time_pts[use_inds[thresholded_edge_indices[0]]]\n",
      "\n",
      "thresh_v_ind = thresholded_edge_indices[0]\n",
      "\n",
      "thresh_v = response[use_inds[thresh_v_ind]]\n",
      "print thresh_v\n",
      "\n",
      "peak_v_ind = np.argmax(response[use_inds])\n",
      "peak_v = response[use_inds[np.argmax(response[use_inds])]]\n",
      "print peak_v\n",
      "print time_pts[use_inds[peak_v_ind]] - 1.02\n",
      "\n",
      "print time_pts[np.argmax(response[use_inds])]\n",
      "\n",
      "print np.argmax(response[use_inds])\n",
      "\n",
      "print (np.argmax(response[use_inds]) - thresholded_edge_indices[0]) / 2\n",
      "\n",
      "half_max_v = (peak_v  + thresh_v) / 2\n",
      "print half_max_v\n",
      "\n",
      "temp = response[use_inds] > half_max_v\n",
      "half_max_greater_ind = np.where(temp==1)[0][0]\n",
      "print half_max_greater_ind\n",
      "\n",
      "temp = response[use_inds[half_max_greater_ind:]] < half_max_v\n",
      "half_max_lesser_ind = np.where(temp==1)[0][0] + half_max_greater_ind\n",
      "print half_max_lesser_ind\n",
      "\n",
      "ap_half_width = np.abs(time_pts[use_inds[half_max_greater_ind]] - time_pts[use_inds[half_max_lesser_ind]])*1000\n",
      "print ap_half_width\n",
      "\n",
      "print time_pts[use_inds[half_max_greater_ind]]\n",
      "print time_pts[use_inds[half_max_lesser_ind]]\n"
     ],
     "language": "python",
     "metadata": {},
     "outputs": [
      {
       "output_type": "stream",
       "stream": "stdout",
       "text": [
        "1.06841\n",
        "-29.5312506601\n",
        "29.5000006594\n",
        "0.049085\n",
        "0.069085\n",
        "13817\n",
        "67\n",
        "-0.0156250003492\n",
        "13728\n",
        "13979\n",
        "1.255\n",
        "1.06864\n",
        "1.069895\n"
       ]
      }
     ],
     "prompt_number": 252
    },
    {
     "cell_type": "code",
     "collapsed": false,
     "input": [
      "response[use_inds[half_max_ind:]]\n",
      "print half_max_v"
     ],
     "language": "python",
     "metadata": {},
     "outputs": [
      {
       "output_type": "stream",
       "stream": "stdout",
       "text": [
        "-32.9375007362\n"
       ]
      }
     ],
     "prompt_number": 216
    },
    {
     "cell_type": "code",
     "collapsed": false,
     "input": [
      "response[ 483349 ]"
     ],
     "language": "python",
     "metadata": {},
     "outputs": [
      {
       "metadata": {},
       "output_type": "pyout",
       "prompt_number": 108,
       "text": [
        "-0.068031251520616967"
       ]
      }
     ],
     "prompt_number": 108
    },
    {
     "cell_type": "code",
     "collapsed": false,
     "input": [
      "spike_times = data_set.get_spike_times(rheobase_sweep_index)"
     ],
     "language": "python",
     "metadata": {},
     "outputs": [],
     "prompt_number": 87
    },
    {
     "cell_type": "code",
     "collapsed": false,
     "input": [
      "spike_times"
     ],
     "language": "python",
     "metadata": {},
     "outputs": [
      {
       "metadata": {},
       "output_type": "pyout",
       "prompt_number": 88,
       "text": [
        "[]"
       ]
      }
     ],
     "prompt_number": 88
    },
    {
     "cell_type": "code",
     "collapsed": false,
     "input": [
      "np.max(stimulus)"
     ],
     "language": "python",
     "metadata": {},
     "outputs": [
      {
       "metadata": {},
       "output_type": "pyout",
       "prompt_number": 107,
       "text": [
        "2.5000000000000002e-10"
       ]
      }
     ],
     "prompt_number": 107
    },
    {
     "cell_type": "code",
     "collapsed": false,
     "input": [
      "sweep_data"
     ],
     "language": "python",
     "metadata": {},
     "outputs": [
      {
       "metadata": {},
       "output_type": "pyout",
       "prompt_number": 125,
       "text": [
        "{'index_range': (150000, 1204000),\n",
        " 'response': array([-0.0676875 , -0.06765625, -0.0676875 , ..., -0.0678125 ,\n",
        "        -0.067875  , -0.0678125 ]),\n",
        " 'sampling_rate': 200000.0,\n",
        " 'stimulus': array([ 0.,  0.,  0., ...,  0.,  0.,  0.])}"
       ]
      }
     ],
     "prompt_number": 125
    },
    {
     "cell_type": "code",
     "collapsed": false,
     "input": [],
     "language": "python",
     "metadata": {},
     "outputs": [
      {
       "metadata": {},
       "output_type": "pyout",
       "prompt_number": 177,
       "text": [
        "0.001255"
       ]
      }
     ],
     "prompt_number": 177
    },
    {
     "cell_type": "code",
     "collapsed": false,
     "input": [],
     "language": "python",
     "metadata": {},
     "outputs": []
    }
   ],
   "metadata": {}
  }
 ]
}