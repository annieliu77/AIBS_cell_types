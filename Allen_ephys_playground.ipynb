{
 "metadata": {
  "name": "",
  "signature": "sha256:d2c7d789707ec41098a2d0ebe242e23c7d1c43e930e35012c236e5f9bedce255"
 },
 "nbformat": 3,
 "nbformat_minor": 0,
 "worksheets": [
  {
   "cells": [
    {
     "cell_type": "markdown",
     "metadata": {},
     "source": [
      "# IPython notebook example of AIBS Cell Types ephys interaction\n",
      "\n",
      "The Allen Institute for Brain Science just released a new dataset on intracellular patch clamp electrophysiology recordings and morphology from mouse visual cortex neurons: [http://celltypes.brain-map.org](http://celltypes.brain-map.org). \n",
      "\n",
      "Here, I'm showing how to access and plot an example dataset in [neurodata-without-borders format](https://crcns.org/NWB). "
     ]
    },
    {
     "cell_type": "markdown",
     "metadata": {},
     "source": [
      "Let's download and analyze an [example dataset of a Scnn1a-Tg2-Cre Primary visual area, layer 5 neuron](http://celltypes.brain-map.org/mouse/experiment/electrophysiology/354190013)\n",
      "\n"
     ]
    },
    {
     "cell_type": "code",
     "collapsed": false,
     "input": [
      "dataset_id = 354190013  # internal ID that AIBS uses for this cell"
     ],
     "language": "python",
     "metadata": {},
     "outputs": [],
     "prompt_number": 98
    },
    {
     "cell_type": "markdown",
     "metadata": {},
     "source": [
      "Now, let's query the [Allen Cell Types API](http://help.brain-map.org//display/celltypes/API) to get the file identifier corresponding to the raw electrophysiology dataset for this cell's recording. \n",
      "\n",
      "This first requires accessing the AIBS general metadata for this cell and parsing it to figure out where the raw ephys data file is stored."
     ]
    },
    {
     "cell_type": "code",
     "collapsed": false,
     "input": [
      "# libraries needed for querying the web and working with returned json file\n",
      "import urllib2\n",
      "import simplejson\n",
      "\n",
      "# base query string for getting general metadata about the cell given an ID\n",
      "url_query_str = \"http://api.brain-map.org/api/v2/data/query.json?criteria=model::Specimen,rma::criteria,[id$eq%d],rma::include,ephys_result(well_known_files(well_known_file_type[name$eqNWB]))\" \n",
      "\n",
      "# query string to get metadata about this cell\n",
      "url_query = url_query_str % dataset_id\n",
      "\n",
      "# print the returned string from the web query\n",
      "returned_url_string = urllib2.urlopen(url_query).read()\n",
      "\n",
      "# json encoded metadata\n",
      "json_data = simplejson.loads(returned_url_string)\n",
      "\n",
      "# this is the ID of the raw data file\n",
      "file_download_id = json_data['msg'][0]['ephys_result']['well_known_files'][0]['id']"
     ],
     "language": "python",
     "metadata": {},
     "outputs": [],
     "prompt_number": 99
    },
    {
     "cell_type": "markdown",
     "metadata": {},
     "source": [
      "Once we know the `file_download_id`, then we can download the recorded raw ephys data file in neurodata-without-borders format.\n",
      "\n",
      "Downloading the file takes a while since it's ~100 megabytes large..."
     ]
    },
    {
     "cell_type": "code",
     "collapsed": false,
     "input": [
      "# this is the syntax for downloading the raw data file given a file download id\n",
      "nwb_file_download_query_str = \"http://api.brain-map.org/api/v2/well_known_file_download/%d\"\n",
      "nwb_file_download_query = nwb_file_download_query_str % file_download_id\n",
      "\n",
      "# download the nwb file and save it to a specific name on file system\n",
      "\n",
      "# filename for storing raw ephys data file\n",
      "nwb_filename = '%d_raw_data.nwb' % dataset_id\n",
      "\n",
      "# another library for working with web data\n",
      "import requests\n",
      "\n",
      "# download the raw ephys data file and store it to the file system\n",
      "r = requests.get(nwb_file_download_query, stream=True) # since the file is so big, it needs to be streamed\n",
      "with open(nwb_filename, 'wb') as f:\n",
      "    for chunk in r.iter_content(chunk_size=2048): \n",
      "        if chunk: # filter out keep-alive new chunks\n",
      "            f.write(chunk)\n",
      "            f.flush()"
     ],
     "language": "python",
     "metadata": {},
     "outputs": [],
     "prompt_number": 103
    },
    {
     "cell_type": "markdown",
     "metadata": {},
     "source": [
      "# Loading and working with the raw ephys dataset\n",
      "\n",
      "AIBS provides a [nice tool via a SDK](http://alleninstitute.github.io/AllenSDK/install.html) for working with the raw ephys dataset. \n",
      "\n",
      "It nicely abstracts away most of the complexity of working with the neurodata-without-borders hdf5 file in all it's glory detail."
     ]
    },
    {
     "cell_type": "code",
     "collapsed": false,
     "input": [
      "# load in the nwb file using the Allen SDK\n",
      "\n",
      "# need to pip install the AIBS SDK: http://alleninstitute.github.io/AllenSDK/install.html\n",
      "# or pull the allensdk from github: https://github.com/AllenInstitute/AllenSDK\n",
      "import allensdk\n",
      "\n",
      "from allensdk.core.nwb_data_set import NwbDataSet\n",
      "data_set = NwbDataSet(nwb_filename)"
     ],
     "language": "python",
     "metadata": {},
     "outputs": [],
     "prompt_number": 104
    },
    {
     "cell_type": "code",
     "collapsed": false,
     "input": [
      "# for a specific sweep, use the SDK functions to get the stimulus, response, samp_rate, etc\n",
      "\n",
      "# import some stuff\n",
      "%matplotlib inline\n",
      "import matplotlib.pyplot as plt\n",
      "import numpy as np\n",
      "\n",
      "sweep_number = 60\n",
      "sweep_data = data_set.get_sweep(sweep_number)\n",
      "\n",
      "# start/stop indices that exclude the experimental test pulse (if applicable)\n",
      "index_range = sweep_data['index_range']\n",
      "\n",
      "# stimulus is a numpy array in amps\n",
      "stimulus = sweep_data['stimulus'][index_range[0]:index_range[-1]]\n",
      "\n",
      "# response is a numpy array in volts\n",
      "response = sweep_data['response'][index_range[0]:index_range[-1]]*1000\n",
      "\n",
      "# sampling rate is in Hz\n",
      "sampling_rate = sweep_data['sampling_rate']\n",
      "\n",
      "# define some time points in seconds (i.e., convert to absolute time)\n",
      "time_pts = np.arange(0,len(stimulus)/sampling_rate,1./sampling_rate)"
     ],
     "language": "python",
     "metadata": {},
     "outputs": [],
     "prompt_number": 105
    },
    {
     "cell_type": "code",
     "collapsed": false,
     "input": [
      "# plot the stimulus and the voltage response for the random trial\n",
      "plt.subplot(2,1,1)\n",
      "plt.plot(time_pts,stimulus)\n",
      "plt.ylabel('Stimulus (Amps)')\n",
      "plt.subplot(2,1,2)\n",
      "plt.plot(time_pts,response)\n",
      "plt.ylabel('membrane voltage (mV)')\n",
      "plt.xlabel('Time (s)')"
     ],
     "language": "python",
     "metadata": {},
     "outputs": [
      {
       "metadata": {},
       "output_type": "pyout",
       "prompt_number": 106,
       "text": [
        "<matplotlib.text.Text at 0x196f91990>"
       ]
      },
      {
       "metadata": {},
       "output_type": "display_data",
       "png": "[encoded data removed]",
       "text": [
        "<matplotlib.figure.Figure at 0x1112f1a10>"
       ]
      }
     ],
     "prompt_number": 106
    },
    {
     "cell_type": "markdown",
     "metadata": {},
     "source": [
      "# Calculating ephys features from raw data file\n",
      "\n",
      "It's pretty amazing that AIBS makes so much raw ephys data is made available. Let's calculate a very simple ephys feature, the first spike peak voltage found at rheobase current injection."
     ]
    },
    {
     "cell_type": "code",
     "collapsed": false,
     "input": [
      "# the rheobase trial index for the Long Square Stimulus (figured out by looking at the .nwb file)\n",
      "rheobase_sweep_index = 46\n",
      "\n",
      "# get the data for this trial\n",
      "sweep_data = data_set.get_sweep(rheobase_sweep_index) \n",
      "stimulus = sweep_data['stimulus'][index_range[0]:index_range[-1]]\n",
      "response = sweep_data['response'][index_range[0]:index_range[-1]]*1000\n",
      "time_pts = np.arange(0,len(stimulus)/sampling_rate,1./sampling_rate)"
     ],
     "language": "python",
     "metadata": {},
     "outputs": [],
     "prompt_number": 108
    },
    {
     "cell_type": "code",
     "collapsed": false,
     "input": [
      "# plot the stimulus and the voltage response for the rheobase trial\n",
      "plt.subplot(2,1,1)\n",
      "plt.plot(time_pts,stimulus)\n",
      "plt.subplot(2,1,2)\n",
      "plt.plot(time_pts,response)\n",
      "plt.ylabel('membrane voltage (mV)')\n",
      "plt.xlabel('Time (s)')"
     ],
     "language": "python",
     "metadata": {},
     "outputs": [
      {
       "metadata": {},
       "output_type": "pyout",
       "prompt_number": 109,
       "text": [
        "<matplotlib.text.Text at 0x1c858be10>"
       ]
      },
      {
       "metadata": {},
       "output_type": "display_data",
       "png": "[encoded data removed]",
       "text": [
        "<matplotlib.figure.Figure at 0x170a0d150>"
       ]
      }
     ],
     "prompt_number": 109
    },
    {
     "cell_type": "markdown",
     "metadata": {},
     "source": [
      "# Calculating the spike peak voltage from raw ephys data file \n",
      "\n",
      "Let's calculate the spike peak from the raw ephys data file, and then compare this to the stored, processed value encoded within the AIBS database by calling the AIBS API."
     ]
    },
    {
     "cell_type": "code",
     "collapsed": false,
     "input": [
      "# for this trial, calculate the voltage corresponding to the spike peak\n",
      "rheo_ap_peak_v = np.max(response) # really simple way to get the voltage of the spike peak\n",
      "rheo_ap_peak_index = np.argmax(response)\n",
      "rheo_ap_peak_t = time_pts[rheo_ap_peak_index]\n",
      "print \"spike peak computed from raw ephys data file:\"\n",
      "print rheo_ap_peak_v\n",
      "print \"\\n\""
     ],
     "language": "python",
     "metadata": {},
     "outputs": [
      {
       "output_type": "stream",
       "stream": "stdout",
       "text": [
        "spike peak computed from raw ephys data file:\n",
        "22.0312504924\n",
        "\n",
        "\n"
       ]
      }
     ],
     "prompt_number": 110
    },
    {
     "cell_type": "markdown",
     "metadata": {},
     "source": [
      "# Pulling the spike peak voltage from the pre-calcuated value from the AIBS database"
     ]
    },
    {
     "cell_type": "code",
     "collapsed": false,
     "input": [
      "# let's now get the summarized data from the Allen API for the voltage for the spike peak\n",
      "summary_ephys_base_url = \"http://api.brain-map.org/api/v2/data/query.json?criteria=model::EphysFeature,rma::criteria,[specimen_id$eq%d]\"\n",
      "summary_ephys_url = summary_ephys_base_url % dataset_id\n",
      "\n",
      "returned_url_string = urllib2.urlopen(summary_ephys_url).read()\n",
      "jsoned = simplejson.loads(returned_url_string)\n",
      "\n",
      "rheo_ap_peak_v_api = jsoned[\"msg\"][0][\"peak_v_long_square\"]\n",
      "rheo_ap_peak_t_api = jsoned[\"msg\"][0][\"peak_t_long_square\"]\n",
      "\n",
      "print \"spike peak downloaded from AIBS API:\"\n",
      "print rheo_ap_peak_v_api"
     ],
     "language": "python",
     "metadata": {},
     "outputs": [
      {
       "output_type": "stream",
       "stream": "stdout",
       "text": [
        "spike peak downloaded from AIBS API:\n",
        "22.0312519073\n"
       ]
      }
     ],
     "prompt_number": 111
    },
    {
     "cell_type": "markdown",
     "metadata": {},
     "source": [
      "# Querying NeuroElectro to compare the AIBS spike peak to prior reports\n",
      "\n",
      "Given that this cell is from layer 5, how does it compare to the summarized ephys from other layer 5 pyramidal cells which have been previously reported?\n",
      "\n",
      "Let's compare this to data from [NeuroElectro layer 5/6 pyramidal cells](http://www.neuroelectro.org/neuron/111/)"
     ]
    },
    {
     "cell_type": "code",
     "collapsed": false,
     "input": [
      "# layer 5/6 pyramidal cell neuroelectro id\n",
      "neuroelectro_neuron_id = 111\n",
      "\n",
      "# neuroelectro spike threshold index\n",
      "ap_thr_ind = 6\n",
      "# neuroelectro spike threshold index\n",
      "ap_amp_ind = 4\n",
      "\n",
      "# query to get summary data for a neuron type from neuroelectro\n",
      "url_query = \"http://neuroelectro.org/api/1/nes/?n=%d\" % neuroelectro_neuron_id\n",
      "returned_url_string = urllib2.urlopen(url_query).read()\n",
      "json_data = simplejson.loads(returned_url_string)\n",
      "\n",
      "ap_amp_mean = json_data['objects'][ap_amp_ind]['value_mean']\n",
      "ap_thr_mean = json_data['objects'][ap_thr_ind]['value_mean']\n",
      "ap_peak_mean = ap_amp_mean + ap_thr_mean\n",
      "\n",
      "print 'NeuroElectro estimated average spike peak:'\n",
      "print ap_peak_mean"
     ],
     "language": "python",
     "metadata": {},
     "outputs": [
      {
       "output_type": "stream",
       "stream": "stdout",
       "text": [
        "NeuroElectro estimated average spike peak:\n",
        "46.104\n"
       ]
      }
     ],
     "prompt_number": 112
    },
    {
     "cell_type": "code",
     "collapsed": false,
     "input": [
      "# look more into specific properties by getting them from the aggregated ephys param list\n",
      "rheo_ap_peak_v_api = jsoned[\"msg\"][0][\"peak_v_long_square\"]\n",
      "input_resistance = jsoned[\"msg\"][0][\"input_resistance_mohm\"]\n",
      "rheo_ap_thr_v_api = jsoned[\"msg\"][0][\"threshold_v_long_square\"]\n",
      "rmp_api = jsoned[\"msg\"][0][\"vrest\"]\n",
      "tau_api = jsoned[\"msg\"][0][\"tau\"]\n",
      "rheo_ap_amp_v_api = rheo_ap_peak_v_api - rheo_ap_thr_v_api\n",
      "\n",
      "json_data = simplejson.loads(returned_url_string)\n",
      "\n",
      "ap_amp_mean = json_data['objects'][ap_amp_ind]['value_mean']\n",
      "ap_thr_mean = json_data['objects'][ap_thr_ind]['value_mean']\n",
      "rmp_mean = json_data['objects'][2]['value_mean']\n",
      "ir_mean = json_data['objects'][1]['value_mean']\n",
      "tau_mean = json_data['objects'][3]['value_mean']\n",
      "\n",
      "single_cell_params = {'resting potential':rmp_api, 'input resistance': input_resistance, 'membrane tau' : tau_api, 'ap amp' : rheo_ap_amp_v_api, 'ap thr' : rheo_ap_thr_v_api}\n",
      "\n",
      "neuroelectro_params = {'resting potential':rmp_mean, 'input resistance': ir_mean, 'membrane tau' : tau_mean, 'ap amp' : ap_amp_mean, 'ap thr' : ap_thr_mean}\n",
      "\n",
      "print 'AIBS single cell data'\n",
      "print single_cell_params\n",
      "\n",
      "print 'NeuroElectro summary data for layer 5/6 pyramidal cells'\n",
      "print neuroelectro_params\n"
     ],
     "language": "python",
     "metadata": {},
     "outputs": [
      {
       "output_type": "stream",
       "stream": "stdout",
       "text": [
        "AIBS single cell data\n",
        "{'ap amp': 56.4375057220459, 'resting potential': -73.020389011928, 'input resistance': 116.090224, 'ap thr': -34.4062538146973, 'membrane tau': 26.2489518949108}\n",
        "NeuroElectro summary data for layer 5/6 pyramidal cells\n",
        "{'ap amp': 88.074, 'resting potential': -68.6930769230769, 'input resistance': 124.187333333333, 'ap thr': -41.97, 'membrane tau': 13.7028571428571}\n"
       ]
      }
     ],
     "prompt_number": 102
    }
   ],
   "metadata": {}
  }
 ]
}