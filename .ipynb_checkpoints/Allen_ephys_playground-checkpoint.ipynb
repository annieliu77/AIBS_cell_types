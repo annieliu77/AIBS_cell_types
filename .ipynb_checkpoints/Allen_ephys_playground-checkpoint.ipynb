{
 "metadata": {
  "name": "",
  "signature": "sha256:2952ac5c4752562c0b2375384184ad13fe79b1eb3c22d946f12f27c30c88dbad"
 },
 "nbformat": 3,
 "nbformat_minor": 0,
 "worksheets": [
  {
   "cells": [
    {
     "cell_type": "markdown",
     "metadata": {},
     "source": [
      "# IPython notebook example of AIBS Cell Types ephys interaction\n",
      "\n",
      "The Allen Institute for Brain Science just released a new dataset on intracellular patch clamp electrophysiology recordings and morphology from mouse visual cortex neurons: [http://celltypes.brain-map.org](http://celltypes.brain-map.org). \n",
      "\n",
      "Here, I'm showing how to access and plot an example dataset in [neurodata-without-borders format](https://crcns.org/NWB). "
     ]
    },
    {
     "cell_type": "markdown",
     "metadata": {},
     "source": [
      "Let's download and analyze an [example dataset of a Scnn1a-Tg2-Cre Primary visual area, layer 5 neuron](http://celltypes.brain-map.org/mouse/experiment/electrophysiology/354190013)"
     ]
    },
    {
     "cell_type": "code",
     "collapsed": false,
     "input": [
      "dataset_id = 354190013  # internal ID that AIBS uses for this cell"
     ],
     "language": "python",
     "metadata": {},
     "outputs": [],
     "prompt_number": 98
    },
    {
     "cell_type": "markdown",
     "metadata": {},
     "source": [
      "# Querying the cell types data and metadata using the AIBS SDK tool\n",
      "\n",
      "AIBS provides a [nice tool via a SDK](http://alleninstitute.github.io/AllenSDK/cell_types.html) for querying and working with the raw ephys dataset. Install it from [here using python's pip](http://alleninstitute.github.io/AllenSDK/install.html)"
     ]
    },
    {
     "cell_type": "code",
     "collapsed": false,
     "input": [
      "# we can use the Allen SDK API to query the metadata for each of the recorded single cells\n",
      "# see  for installation instructions\n",
      "\n",
      "from allensdk.api.queries.cell_types_api import CellTypesApi\n",
      "\n",
      "ct = CellTypesApi()\n",
      "\n",
      "# use the SDK API to get a list of single cells and corresponding metadata\n",
      "cell_metadata_list = ct.list_cells(require_reconstruction=False)\n",
      "\n",
      "# convert that list of cells' metadata to a python dictionary for easy access\n",
      "cell_meta_dict = {}\n",
      "for i in range(len(cell_metadata_list)):\n",
      "    cell_meta_dict[cell_metadata_list[i]['id']] = cell_metadata_list[i]\n",
      "\n",
      "# print some summary metadata for the cell\n",
      "print 'Some basic metadata from this cell from the API'\n",
      "print 'Cell name: ' , cell_meta_dict[dataset_id]['name']\n",
      "print 'Cell ID: ' , cell_meta_dict[dataset_id]['id']\n",
      "print 'Brain region: ' , cell_meta_dict[dataset_id]['structure']['name']\n",
      "\n",
      "# uncomment this line to see all the metadata associated with each cell returned from the API\n",
      "#print cell_meta_dict[dataset_id]\n"
     ],
     "language": "python",
     "metadata": {},
     "outputs": [
      {
       "output_type": "stream",
       "stream": "stdout",
       "text": [
        "Output some basic metadata from this cell from the API\n",
        "Name:  Scnn1a-Tg2-Cre;Ai14(IVSCC)-176962.05.01.01\n",
        "ID:  354190013\n",
        "brain region:  Primary visual area, layer 5\n"
       ]
      }
     ],
     "prompt_number": 130
    },
    {
     "cell_type": "markdown",
     "metadata": {},
     "source": [
      "# Downloading the raw ephys data and morphology file for the cell\n",
      "\n",
      "We can also use the SDK to easily download the electrophysiology and morphology raw data files associated with this cell. [File description](http://alleninstitute.github.io/AllenSDK/cell_types.html).\n",
      "\n",
      "Downloading the ephys file takes a while since they're ~100 megabytes large..."
     ]
    },
    {
     "cell_type": "code",
     "collapsed": false,
     "input": [
      "# download and save the electrophysiology data for one cell\n",
      "\n",
      "raw_ephys_file_name = '%d_raw_data.nwb' % dataset_id\n",
      "ct.save_ephys_data(dataset_id, raw_ephys_file_name)\n",
      "\n",
      "# download and save the reconstruction for the same cell\n",
      "\n",
      "morphology_file_name = '%d_morphology.swc' % dataset_id\n",
      "ct.save_reconstruction(dataset_id, morphology_file_name)"
     ],
     "language": "python",
     "metadata": {},
     "outputs": []
    },
    {
     "cell_type": "markdown",
     "metadata": {},
     "source": [
      "# Loading and working with the raw ephys dataset\n",
      "\n",
      "AIBS provides a [nice tool via a SDK](http://alleninstitute.github.io/AllenSDK/install.html) for working with the raw ephys dataset. \n",
      "\n",
      "It nicely abstracts away most of the complexity of working with the [neurodata-without-borders hdf5 file format](https://crcns.org/NWB)."
     ]
    },
    {
     "cell_type": "markdown",
     "metadata": {},
     "source": [
      "Now, let's query the [Allen Cell Types API](http://help.brain-map.org//display/celltypes/API) to get the file identifier corresponding to the raw electrophysiology dataset for this cell's recording. \n",
      "\n",
      "This first requires accessing the AIBS general metadata for this cell and parsing it to figure out where the raw ephys data file is stored."
     ]
    },
    {
     "cell_type": "code",
     "collapsed": false,
     "input": [
      "# load in and read in the NWB raw ephys file using the Allen SDK\n",
      "\n",
      "from allensdk.core.nwb_data_set import NwbDataSet\n",
      "data_set = NwbDataSet(raw_ephys_file_name)"
     ],
     "language": "python",
     "metadata": {},
     "outputs": [],
     "prompt_number": 139
    },
    {
     "cell_type": "code",
     "collapsed": false,
     "input": [
      "# for a specific sweep, use the SDK functions to get the stimulus, response, samp_rate, etc\n",
      "\n",
      "# import some stuff\n",
      "%matplotlib inline\n",
      "import matplotlib.pyplot as plt\n",
      "import numpy as np\n",
      "\n",
      "sweep_number = 60\n",
      "sweep_data = data_set.get_sweep(sweep_number)\n",
      "\n",
      "# start/stop indices that exclude the experimental test pulse (if applicable)\n",
      "index_range = sweep_data['index_range']\n",
      "\n",
      "# stimulus is a numpy array in amps\n",
      "stimulus = sweep_data['stimulus'][index_range[0]:index_range[-1]]\n",
      "\n",
      "# response is a numpy array in volts\n",
      "response = sweep_data['response'][index_range[0]:index_range[-1]]*1000\n",
      "\n",
      "# sampling rate is in Hz\n",
      "sampling_rate = sweep_data['sampling_rate']\n",
      "\n",
      "# define some time points in seconds (i.e., convert to absolute time)\n",
      "time_pts = np.arange(0,len(stimulus)/sampling_rate,1./sampling_rate)"
     ],
     "language": "python",
     "metadata": {},
     "outputs": [],
     "prompt_number": 105
    },
    {
     "cell_type": "code",
     "collapsed": false,
     "input": [
      "# plot the stimulus and the voltage response for the random trial\n",
      "plt.subplot(2,1,1)\n",
      "plt.plot(time_pts,stimulus)\n",
      "plt.ylabel('Stimulus (Amps)')\n",
      "plt.subplot(2,1,2)\n",
      "plt.plot(time_pts,response)\n",
      "plt.ylabel('membrane voltage (mV)')\n",
      "plt.xlabel('Time (s)')"
     ],
     "language": "python",
     "metadata": {},
     "outputs": [
      {
       "metadata": {},
       "output_type": "pyout",
       "prompt_number": 106,
       "text": [
        "<matplotlib.text.Text at 0x196f91990>"
       ]
      },
      {
       "metadata": {},
       "output_type": "display_data",
       "png": "[encoded data removed]",
       "text": [
        "<matplotlib.figure.Figure at 0x1112f1a10>"
       ]
      }
     ],
     "prompt_number": 106
    },
    {
     "cell_type": "markdown",
     "metadata": {},
     "source": [
      "# Calculating ephys features from raw data file\n",
      "\n",
      "It's pretty amazing that AIBS makes so much raw ephys data is made available. Let's calculate a very simple ephys feature, the first spike peak voltage found at rheobase current injection."
     ]
    },
    {
     "cell_type": "code",
     "collapsed": false,
     "input": [
      "# the rheobase trial index for the Long Square Stimulus (figured out by looking at the .nwb file)\n",
      "rheobase_sweep_index = 46\n",
      "\n",
      "# get the data for this trial\n",
      "sweep_data = data_set.get_sweep(rheobase_sweep_index) \n",
      "stimulus = sweep_data['stimulus'][index_range[0]:index_range[-1]]\n",
      "response = sweep_data['response'][index_range[0]:index_range[-1]]*1000\n",
      "time_pts = np.arange(0,len(stimulus)/sampling_rate,1./sampling_rate)"
     ],
     "language": "python",
     "metadata": {},
     "outputs": [],
     "prompt_number": 108
    },
    {
     "cell_type": "code",
     "collapsed": false,
     "input": [
      "# plot the stimulus and the voltage response for the rheobase trial\n",
      "plt.subplot(2,1,1)\n",
      "plt.plot(time_pts,stimulus)\n",
      "plt.ylabel('Stimulus (Amps)')\n",
      "plt.subplot(2,1,2)\n",
      "plt.plot(time_pts,response)\n",
      "plt.ylabel('membrane voltage (mV)')\n",
      "plt.xlabel('Time (s)')"
     ],
     "language": "python",
     "metadata": {},
     "outputs": [
      {
       "metadata": {},
       "output_type": "pyout",
       "prompt_number": 117,
       "text": [
        "<matplotlib.text.Text at 0x1cc97c450>"
       ]
      },
      {
       "metadata": {},
       "output_type": "display_data",
       "png": "[encoded data removed]",
       "text": [
        "<matplotlib.figure.Figure at 0x196f6aa10>"
       ]
      }
     ],
     "prompt_number": 117
    },
    {
     "cell_type": "markdown",
     "metadata": {},
     "source": [
      "# Calculating the spike peak voltage from raw ephys data file \n",
      "\n",
      "Let's calculate the spike peak from the raw ephys data file, and then compare this to the stored, processed value encoded within the AIBS database by calling the AIBS API.\n",
      "\n",
      "The descriptions for how AIBS internally computes features from the ephys data is provided in the [documentation](http://help.brain-map.org/download/attachments/8323525/EphysOverview.pdf?version=1&modificationDate=1431448006652)"
     ]
    },
    {
     "cell_type": "code",
     "collapsed": false,
     "input": [
      "# for this trial, calculate the voltage corresponding to the spike peak\n",
      "rheo_ap_peak_v = np.max(response) # really simple way to get the voltage of the spike peak\n",
      "rheo_ap_peak_index = np.argmax(response)\n",
      "rheo_ap_peak_t = time_pts[rheo_ap_peak_index]\n",
      "print \"spike peak at rheobase computed from raw ephys data file:\"\n",
      "print rheo_ap_peak_v, 'mV'"
     ],
     "language": "python",
     "metadata": {},
     "outputs": [
      {
       "output_type": "stream",
       "stream": "stdout",
       "text": [
        "spike peak computed from raw ephys data file:\n",
        "22.0312504924 mV\n"
       ]
      }
     ],
     "prompt_number": 135
    },
    {
     "cell_type": "markdown",
     "metadata": {},
     "source": [
      "# Pulling the spike peak voltage from the pre-calcuated value from the AIBS database"
     ]
    },
    {
     "cell_type": "code",
     "collapsed": false,
     "input": [
      "# libraries needed for querying a web url and working with returned json file\n",
      "import urllib2\n",
      "import simplejson\n",
      "\n",
      "# let's now get the summarized data from the Allen API for the voltage for the spike peak\n",
      "summary_ephys_base_url = \"http://api.brain-map.org/api/v2/data/query.json?criteria=model::EphysFeature,rma::criteria,[specimen_id$eq%d]\"\n",
      "summary_ephys_url = summary_ephys_base_url % dataset_id # query url\n",
      "\n",
      "returned_url_string = urllib2.urlopen(summary_ephys_url).read() # excecutes a web query and gets returned json\n",
      "aibs_api_json = simplejson.loads(returned_url_string) # makes json object for computed ephys features for this cell\n",
      "\n",
      "# action potential peak voltage and time\n",
      "rheo_ap_peak_v_api = aibs_api_json[\"msg\"][0][\"peak_v_long_square\"]\n",
      "rheo_ap_peak_t_api = aibs_api_json[\"msg\"][0][\"peak_t_long_square\"]\n",
      "\n",
      "print \"spike peak at rheobase downloaded from AIBS API:\"\n",
      "print rheo_ap_peak_v_api, 'mV'"
     ],
     "language": "python",
     "metadata": {},
     "outputs": [
      {
       "output_type": "stream",
       "stream": "stdout",
       "text": [
        "spike peak downloaded from AIBS API:\n",
        "22.0312519073\n"
       ]
      }
     ],
     "prompt_number": 113
    },
    {
     "cell_type": "markdown",
     "metadata": {},
     "source": [
      "# Querying NeuroElectro to compare the AIBS spike peak to prior reports\n",
      "\n",
      "Given that this is a layer 5 pyramidal cell (based on it's morphology), how does it compare to the summarized ephys from other layer 5 pyramidal cells which have been previously reported?\n",
      "\n",
      "Let's compare this cell to data from [NeuroElectro layer 5/6 pyramidal cells](http://www.neuroelectro.org/neuron/111/). But clearly, the correspondence between the two cell types isn't perfect..."
     ]
    },
    {
     "cell_type": "code",
     "collapsed": false,
     "input": [
      "# layer 5/6 pyramidal cell neuroelectro id\n",
      "neuroelectro_neuron_id = 111\n",
      "\n",
      "# neuroelectro spike threshold index\n",
      "ap_thr_ind = 6\n",
      "# neuroelectro spike threshold index\n",
      "ap_amp_ind = 4\n",
      "\n",
      "# query to get summary data for a neuron type from neuroelectro\n",
      "url_query = \"http://neuroelectro.org/api/1/nes/?n=%d\" % neuroelectro_neuron_id\n",
      "returned_url_string = urllib2.urlopen(url_query).read()\n",
      "neuroelectro_api_json = simplejson.loads(returned_url_string)\n",
      "\n",
      "ap_amp_mean = neuroelectro_api_json['objects'][ap_amp_ind]['value_mean']\n",
      "ap_thr_mean = neuroelectro_api_json['objects'][ap_thr_ind]['value_mean']\n",
      "ap_peak_mean = ap_amp_mean + ap_thr_mean\n",
      "\n",
      "print 'NeuroElectro estimated average spike peak:'\n",
      "print ap_peak_mean, 'mV'"
     ],
     "language": "python",
     "metadata": {},
     "outputs": [
      {
       "output_type": "stream",
       "stream": "stdout",
       "text": [
        "NeuroElectro estimated average spike peak:\n",
        "46.104 mV\n"
       ]
      }
     ],
     "prompt_number": 136
    },
    {
     "cell_type": "code",
     "collapsed": false,
     "input": [
      "# Comparing specific AIBS single-cell properties to mean properties compiled from NeuroElectro"
     ],
     "language": "python",
     "metadata": {},
     "outputs": []
    },
    {
     "cell_type": "code",
     "collapsed": false,
     "input": [
      "# look more into specific single-cell properties by getting them from the aggregated ephys param list\n",
      "rheo_ap_peak_v_api = aibs_api_json[\"msg\"][0][\"peak_v_long_square\"]\n",
      "input_resistance = aibs_api_json[\"msg\"][0][\"input_resistance_mohm\"]\n",
      "rheo_ap_thr_v_api = aibs_api_json[\"msg\"][0][\"threshold_v_long_square\"]\n",
      "rmp_api = aibs_api_json[\"msg\"][0][\"vrest\"]\n",
      "tau_api = aibs_api_json[\"msg\"][0][\"tau\"]\n",
      "rheo_ap_amp_v_api = rheo_ap_peak_v_api - rheo_ap_thr_v_api\n",
      "\n",
      "json_data = simplejson.loads(returned_url_string)\n",
      "\n",
      "ap_amp_mean = neuroelectro_api_json['objects'][ap_amp_ind]['value_mean']\n",
      "ap_thr_mean = neuroelectro_api_json['objects'][ap_thr_ind]['value_mean']\n",
      "rmp_mean = neuroelectro_api_json['objects'][2]['value_mean']\n",
      "ir_mean = neuroelectro_api_json['objects'][1]['value_mean']\n",
      "tau_mean = neuroelectro_api_json['objects'][3]['value_mean']\n",
      "\n",
      "single_cell_params = {'resting potential':rmp_api, 'input resistance': input_resistance, 'membrane tau' : tau_api, 'ap amp' : rheo_ap_amp_v_api, 'ap thr' : rheo_ap_thr_v_api}\n",
      "\n",
      "neuroelectro_params = {'resting potential':rmp_mean, 'input resistance': ir_mean, 'membrane tau' : tau_mean, 'ap amp' : ap_amp_mean, 'ap thr' : ap_thr_mean}\n",
      "\n",
      "print 'AIBS single cell data'\n",
      "print single_cell_params\n",
      "\n",
      "print 'NeuroElectro summary data for layer 5/6 pyramidal cells'\n",
      "print neuroelectro_params\n"
     ],
     "language": "python",
     "metadata": {},
     "outputs": [
      {
       "output_type": "stream",
       "stream": "stdout",
       "text": [
        "AIBS single cell data\n",
        "{'ap amp': 56.4375057220459, 'resting potential': -73.020389011928, 'input resistance': 116.090224, 'ap thr': -34.4062538146973, 'membrane tau': 26.2489518949108}\n",
        "NeuroElectro summary data for layer 5/6 pyramidal cells\n",
        "{'ap amp': 88.074, 'resting potential': -68.6930769230769, 'input resistance': 124.187333333333, 'ap thr': -41.97, 'membrane tau': 13.7028571428571}\n"
       ]
      }
     ],
     "prompt_number": 116
    }
   ],
   "metadata": {}
  }
 ]
}